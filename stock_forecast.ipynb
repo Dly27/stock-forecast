{
  "nbformat": 4,
  "nbformat_minor": 0,
  "metadata": {
    "colab": {
      "provenance": [],
      "authorship_tag": "ABX9TyPnYyQ7je1UqAwzj3/LVFDi",
      "include_colab_link": true
    },
    "kernelspec": {
      "name": "python3",
      "display_name": "Python 3"
    },
    "language_info": {
      "name": "python"
    }
  },
  "cells": [
    {
      "cell_type": "markdown",
      "metadata": {
        "id": "view-in-github",
        "colab_type": "text"
      },
      "source": [
        "<a href=\"https://colab.research.google.com/github/Dly27/stock-forecast/blob/main/stock_forecast.ipynb\" target=\"_parent\"><img src=\"https://colab.research.google.com/assets/colab-badge.svg\" alt=\"Open In Colab\"/></a>"
      ]
    },
    {
      "cell_type": "code",
      "source": [
        "!pip install alpha_vantage"
      ],
      "metadata": {
        "id": "bbMvH3WxH3RR"
      },
      "execution_count": null,
      "outputs": []
    },
    {
      "cell_type": "code",
      "source": [
        "!pip install yfinance"
      ],
      "metadata": {
        "id": "Zof_BMtbIEjW"
      },
      "execution_count": null,
      "outputs": []
    },
    {
      "cell_type": "code",
      "execution_count": null,
      "metadata": {
        "id": "h3AfkF7SGt-C"
      },
      "outputs": [],
      "source": [
        "import numpy as np\n",
        "import pandas as pd\n",
        "import tensorflow as tf\n",
        "import matplotlib.pyplot as plt\n",
        "from keras.callbacks import EarlyStopping\n",
        "from sklearn.model_selection import train_test_split\n",
        "from sklearn.pipeline import Pipeline\n",
        "from sklearn.preprocessing import MinMaxScaler\n",
        "from alpha_vantage.timeseries import TimeSeries\n",
        "\n",
        "ALPHA_VANTAGE_API_KEY = 'VC2S9T9RSVXMPOP0'"
      ]
    },
    {
      "cell_type": "code",
      "source": [
        "def fetch_stock_data(symbol, start_date, end_date):\n",
        "    ts = TimeSeries(key=ALPHA_VANTAGE_API_KEY, output_format='pandas')\n",
        "    data, meta_data = ts.get_daily(symbol=symbol, outputsize='full')\n",
        "    data = data[(data.index >= start_date) & (data.index <= end_date)]\n",
        "    return data\n",
        "\n",
        "def prepare_data(data):\n",
        "    features = data[['1. open', '2. high', '3. low', '4. close', '5. volume','90_day_sma', '30_day_sma']]\n",
        "    target = data['4. close']\n",
        "    return features, target\n"
      ],
      "metadata": {
        "id": "5QNA_VtAG0TL"
      },
      "execution_count": null,
      "outputs": []
    },
    {
      "cell_type": "code",
      "source": [
        "print(stock_data)"
      ],
      "metadata": {
        "id": "vE5wFXr1dVSC"
      },
      "execution_count": null,
      "outputs": []
    },
    {
      "cell_type": "code",
      "source": [
        "stock_data = fetch_stock_data('AAPL', '2021-01-01', '2024-01-01')\n",
        "stock_data['90_day_sma'] = stock_data['4. close'].rolling(window=90).mean().shift(-30)\n",
        "stock_data['30_day_sma'] = stock_data['4. close'].rolling(window=30).mean().shift(-15)\n",
        "stock_data = stock_data.fillna(method='bfill')\n",
        "features, target = prepare_data(stock_data)\n"
      ],
      "metadata": {
        "id": "CKlS-vdDG2by"
      },
      "execution_count": null,
      "outputs": []
    },
    {
      "cell_type": "code",
      "source": [
        "plt.figure(figsize=(12, 6))\n",
        "plt.plot(stock_data.index, stock_data['4. close'])\n",
        "plt.plot(stock_data.index, stock_data['90_day_sma'])\n",
        "plt.plot(stock_data.index, stock_data['30_day_sma'])\n",
        "plt.title('Apple (AAPL) Stock Price')\n",
        "plt.xlabel('Date')\n",
        "plt.ylabel('Price (USD)')\n",
        "plt.grid(True)\n",
        "plt.show()"
      ],
      "metadata": {
        "id": "ac9PfQkEez2R"
      },
      "execution_count": null,
      "outputs": []
    },
    {
      "cell_type": "code",
      "source": [
        "X_train, X_temp, y_train, y_temp = train_test_split(features, target, test_size=0.3, random_state=42)\n",
        "X_validation, X_test, y_validation, y_test = train_test_split(X_temp, y_temp, test_size=0.5, random_state=42)\n",
        "\n",
        "pipeline = Pipeline([\n",
        "    ('scaler', MinMaxScaler())\n",
        "])\n",
        "\n",
        "datasets = [X_train, X_validation, X_test]\n",
        "scaled_datasets = []\n",
        "for dataset in datasets:\n",
        "    scaled_dataset = pipeline.fit_transform(dataset)\n",
        "    scaled_datasets.append(scaled_dataset)\n",
        "\n",
        "X_train_scaled, X_validation_scaled, X_test_scaled = scaled_datasets\n",
        "\n",
        "time_steps = 30\n",
        "X_train_lstm = []\n",
        "y_train_lstm = []\n",
        "\n",
        "for i in range(time_steps, len(X_train_scaled)):\n",
        "    X_train_lstm.append(X_train_scaled[i - time_steps:i])\n",
        "    y_train_lstm.append(y_train[i])\n",
        "\n",
        "X_train_lstm, y_train_lstm = np.array(X_train_lstm), np.array(y_train_lstm)\n",
        "X_train_lstm = X_train_lstm.reshape(X_train_lstm.shape[0], X_train_lstm.shape[1], X_train_lstm.shape[2])\n",
        "\n",
        "X_validation_lstm = []\n",
        "y_validation_lstm = []\n",
        "\n",
        "for i in range(time_steps, len(X_validation_scaled)):\n",
        "    X_validation_lstm.append(X_validation_scaled[i - time_steps:i])\n",
        "    y_validation_lstm.append(y_validation[i])\n",
        "\n",
        "X_validation_lstm, y_validation_lstm = np.array(X_validation_lstm), np.array(y_validation_lstm)\n",
        "X_validation_lstm = X_validation_lstm.reshape(X_validation_lstm.shape[0], X_validation_lstm.shape[1], X_validation_lstm.shape[2])"
      ],
      "metadata": {
        "id": "P6a1axCRHU19"
      },
      "execution_count": null,
      "outputs": []
    },
    {
      "cell_type": "code",
      "source": [
        "model = tf.keras.Sequential([\n",
        "    tf.keras.layers.LSTM(64, return_sequences=True, input_shape=(X_train_lstm.shape[1], X_train_lstm.shape[2])),\n",
        "    tf.keras.layers.Dropout(0.2),\n",
        "    tf.keras.layers.LSTM(32),\n",
        "    tf.keras.layers.Dropout(0.2),\n",
        "    tf.keras.layers.Dense(1)\n",
        "])\n",
        "\n",
        "optimizer = tf.keras.optimizers.Adam(learning_rate=0.001)\n",
        "model.compile(optimizer=optimizer, loss='mean_squared_error')\n",
        "\n",
        "early_stopping = EarlyStopping(monitor='val_loss', patience=10, verbose=1, restore_best_weights=True)\n",
        "\n",
        "history = model.fit(\n",
        "    X_train_lstm, y_train_lstm,\n",
        "    epochs=100,\n",
        "    batch_size=32,\n",
        "    validation_data=(X_validation_lstm, y_validation_lstm),\n",
        "    callbacks=[early_stopping]\n",
        ")\n",
        "\n",
        "X_test_lstm = []\n",
        "y_test_lstm = []\n",
        "\n",
        "for i in range(time_steps, len(X_test_scaled)):\n",
        "    X_test_lstm.append(X_test_scaled[i - time_steps:i])\n",
        "    y_test_lstm.append(y_test[i])\n",
        "\n",
        "X_test_lstm, y_test_lstm = np.array(X_test_lstm), np.array(y_test_lstm)\n",
        "X_test_lstm = X_test_lstm.reshape(X_test_lstm.shape[0], X_test_lstm.shape[1], X_test_lstm.shape[2])\n",
        "\n",
        "loss = model.evaluate(X_test_lstm, y_test_lstm)\n",
        "predictions = model.predict(X_test_lstm)"
      ],
      "metadata": {
        "colab": {
          "base_uri": "https://localhost:8080/"
        },
        "id": "hSYevRW5HiVi",
        "outputId": "2f8623e3-a509-483d-c524-64d242b39de2"
      },
      "execution_count": null,
      "outputs": [
        {
          "output_type": "stream",
          "name": "stdout",
          "text": [
            "Epoch 1/100\n",
            "16/16 [==============================] - 5s 82ms/step - loss: nan - val_loss: nan\n",
            "Epoch 2/100\n",
            "16/16 [==============================] - 0s 29ms/step - loss: nan - val_loss: nan\n",
            "Epoch 3/100\n",
            "16/16 [==============================] - 0s 29ms/step - loss: nan - val_loss: nan\n",
            "Epoch 4/100\n",
            "16/16 [==============================] - 0s 27ms/step - loss: nan - val_loss: nan\n",
            "Epoch 5/100\n",
            "16/16 [==============================] - 0s 29ms/step - loss: nan - val_loss: nan\n",
            "Epoch 6/100\n",
            "16/16 [==============================] - 0s 27ms/step - loss: nan - val_loss: nan\n",
            "Epoch 7/100\n",
            "16/16 [==============================] - 1s 33ms/step - loss: nan - val_loss: nan\n",
            "Epoch 8/100\n",
            "16/16 [==============================] - 0s 28ms/step - loss: nan - val_loss: nan\n",
            "Epoch 9/100\n",
            "16/16 [==============================] - 0s 28ms/step - loss: nan - val_loss: nan\n",
            "Epoch 10/100\n",
            "16/16 [==============================] - ETA: 0s - loss: nanRestoring model weights from the end of the best epoch: 1.\n",
            "16/16 [==============================] - 0s 28ms/step - loss: nan - val_loss: nan\n",
            "Epoch 10: early stopping\n",
            "3/3 [==============================] - 0s 10ms/step - loss: nan\n",
            "3/3 [==============================] - 1s 9ms/step\n"
          ]
        }
      ]
    },
    {
      "cell_type": "markdown",
      "source": [
        "Handle missing data from SMA"
      ],
      "metadata": {
        "id": "AdH_WttmgpLY"
      }
    },
    {
      "cell_type": "code",
      "source": [],
      "metadata": {
        "id": "OzihBSUteVNa"
      },
      "execution_count": null,
      "outputs": []
    },
    {
      "cell_type": "code",
      "source": [],
      "metadata": {
        "id": "g5Sf342MHlTF"
      },
      "execution_count": null,
      "outputs": []
    }
  ]
}